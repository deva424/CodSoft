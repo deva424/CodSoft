{
 "cells": [
  {
   "cell_type": "markdown",
   "id": "a19664c8-b3a4-4c41-92da-512fbb1d625e",
   "metadata": {},
   "source": [
    "**TITANIC SURVIVAL PREDICTION**\n",
    "\n"
   ]
  },
  {
   "cell_type": "markdown",
   "id": "e4bbe1a9-7afd-4977-b106-d82783e62bf5",
   "metadata": {},
   "source": [
    "**IMPORT THE  NECESSARY PACKAGES WHICH IS USED TO PREDICT THE SURVIALS**"
   ]
  },
  {
   "cell_type": "code",
   "execution_count": 17,
   "id": "63980f93-eee4-4a6d-a0e7-72facbd5416e",
   "metadata": {},
   "outputs": [],
   "source": [
    "\n",
    "# Titanic Survival Prediction using Random Forest\n",
    "\n",
    "import pandas as pd\n",
    "from sklearn.model_selection import train_test_split\n",
    "from sklearn.ensemble import RandomForestClassifier\n",
    "from sklearn.metrics import accuracy_score, classification_report, confusion_matrix\n",
    "import matplotlib.pyplot as plt\n",
    "import seaborn as sns\n"
   ]
  },
  {
   "cell_type": "code",
   "execution_count": 18,
   "id": "919563d7-1ae4-4c86-9753-59c14f494c3a",
   "metadata": {},
   "outputs": [],
   "source": [
    "# Load dataset\n",
    "df = pd.read_csv(\"taks 1/Titanic-Dataset.csv\")\n"
   ]
  },
  {
   "cell_type": "markdown",
   "id": "f0ab0812-7049-43e4-ab86-04e820eb3f33",
   "metadata": {},
   "source": [
    "**DROP THE UNWANTED COLUMNS IN THE DATASET**"
   ]
  },
  {
   "cell_type": "code",
   "execution_count": 19,
   "id": "16c13089-0015-4190-95b4-fb383e3940ff",
   "metadata": {},
   "outputs": [],
   "source": [
    "# Drop irrelevant columns\n",
    "df.drop(columns=[\"PassengerId\", \"Name\", \"Ticket\", \"Cabin\"], inplace=True)"
   ]
  },
  {
   "cell_type": "markdown",
   "id": "0848ddfa-89fd-4c35-892f-143c8893e9c1",
   "metadata": {},
   "source": [
    "**HANDLING MISSING VALUES**\n"
   ]
  },
  {
   "cell_type": "code",
   "execution_count": 20,
   "id": "947897b1-93a2-4e23-b475-d1fc6a1f3985",
   "metadata": {},
   "outputs": [],
   "source": [
    "# Handle missing values (safe version without inplace)\n",
    "df[\"Age\"] = df[\"Age\"].fillna(df[\"Age\"].median())\n",
    "df[\"Embarked\"] = df[\"Embarked\"].fillna(df[\"Embarked\"].mode()[0])\n"
   ]
  },
  {
   "cell_type": "code",
   "execution_count": 21,
   "id": "6ee21ad9-b062-45ae-841c-653c7bbb6c6b",
   "metadata": {},
   "outputs": [],
   "source": [
    "# Convert categorical to numeric\n",
    "df = pd.get_dummies(df, columns=[\"Sex\", \"Embarked\"], drop_first=True)"
   ]
  },
  {
   "cell_type": "code",
   "execution_count": 22,
   "id": "f034c695-5194-4733-8515-652960bed220",
   "metadata": {},
   "outputs": [],
   "source": [
    "# Define features and target\n",
    "X = df.drop(\"Survived\", axis=1)\n",
    "y = df[\"Survived\"]\n",
    "\n",
    "# Train-test split\n",
    "X_train, X_test, y_train, y_test = train_test_split(X, y, test_size=0.2, random_state=42)"
   ]
  },
  {
   "cell_type": "markdown",
   "id": "af8b49b8-91d0-4753-9365-a4346f6af956",
   "metadata": {},
   "source": [
    "**TRAIN THE MODEL BY USING RandomForestClassifier**"
   ]
  },
  {
   "cell_type": "code",
   "execution_count": 23,
   "id": "25459cb6-cfe1-49c4-998b-20c4ae9b3e45",
   "metadata": {},
   "outputs": [],
   "source": [
    "# Model training\n",
    "model = RandomForestClassifier(n_estimators=100, random_state=42)\n",
    "model.fit(X_train, y_train)\n",
    "\n",
    "# Predictions\n",
    "y_pred = model.predict(X_test)"
   ]
  },
  {
   "cell_type": "code",
   "execution_count": 24,
   "id": "f6d87687-10db-41a2-9654-9aeff4b3b03a",
   "metadata": {},
   "outputs": [
    {
     "name": "stdout",
     "output_type": "stream",
     "text": [
      "\n",
      "Accuracy: 82.12%\n",
      "\n",
      "Confusion Matrix:\n",
      " [[91 14]\n",
      " [18 56]]\n",
      "\n",
      "Classification Report:\n",
      "               precision    recall  f1-score   support\n",
      "\n",
      "           0       0.83      0.87      0.85       105\n",
      "           1       0.80      0.76      0.78        74\n",
      "\n",
      "    accuracy                           0.82       179\n",
      "   macro avg       0.82      0.81      0.81       179\n",
      "weighted avg       0.82      0.82      0.82       179\n",
      "\n"
     ]
    },
    {
     "data": {
      "image/png": "[encoded data removed]",
      "text/plain": [
       "<Figure size 1000x600 with 1 Axes>"
      ]
     },
     "metadata": {},
     "output_type": "display_data"
    }
   ],
   "source": [
    "# Evaluation\n",
    "print(f\"\\nAccuracy: {accuracy_score(y_test, y_pred) * 100:.2f}%\")\n",
    "print(\"\\nConfusion Matrix:\\n\", confusion_matrix(y_test, y_pred))\n",
    "print(\"\\nClassification Report:\\n\", classification_report(y_test, y_pred))\n",
    "\n",
    "# Feature Importance\n",
    "importances = pd.Series(model.feature_importances_, index=X.columns)\n",
    "importances.sort_values().plot(kind='barh', figsize=(10, 6), title='Feature Importance')\n",
    "plt.tight_layout()\n",
    "plt.show()\n"
   ]
  },
  {
   "cell_type": "code",
   "execution_count": null,
   "id": "9528ae19-e2ff-4b2c-ac8a-cb19be7e0aa9",
   "metadata": {},
   "outputs": [],
   "source": []
  }
 ],
 "metadata": {
  "kernelspec": {
   "display_name": "Python 3 (ipykernel)",
   "language": "python",
   "name": "python3"
  },
  "language_info": {
   "codemirror_mode": {
    "name": "ipython",
    "version": 3
   },
   "file_extension": ".py",
   "mimetype": "text/x-python",
   "name": "python",
   "nbconvert_exporter": "python",
   "pygments_lexer": "ipython3",
   "version": "3.12.2"
  }
 },
 "nbformat": 4,
 "nbformat_minor": 5
}
