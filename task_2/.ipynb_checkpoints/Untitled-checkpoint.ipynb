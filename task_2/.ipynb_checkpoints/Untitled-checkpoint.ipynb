{
 "cells": [
  {
   "cell_type": "markdown",
   "id": "ed456ef5-7ab3-4012-a8ae-1e170e61c0d4",
   "metadata": {},
   "source": [
    "# TASK 2"
   ]
  },
  {
   "cell_type": "markdown",
   "id": "f828572c-2b50-40d6-85ff-c38e87bab3b0",
   "metadata": {},
   "source": [
    "# MOVIE RATING PREDICTION IN PYTHON "
   ]
  },
  {
   "cell_type": "code",
   "execution_count": 46,
   "id": "d39dd5b4-1279-4da0-8cef-6e1cc8a5daac",
   "metadata": {},
   "outputs": [],
   "source": [
    "# Import necessary libraries\n",
    "import pandas as pd\n",
    "import numpy as np\n",
    "from sklearn.model_selection import train_test_split\n",
    "from sklearn.preprocessing import OneHotEncoder\n",
    "from sklearn.ensemble import RandomForestRegressor\n",
    "from sklearn.metrics import mean_squared_error, mean_absolute_error, r2_score\n",
    "from sklearn.pipeline import Pipeline\n",
    "from sklearn.compose import ColumnTransformer"
   ]
  },
  {
   "cell_type": "code",
   "execution_count": 47,
   "id": "094bd993-9143-4528-ad85-2bb383976084",
   "metadata": {},
   "outputs": [],
   "source": [
    "# Step 1: Load the dataset\n",
    "file_path = \"IMDb Movies India.csv\"  \n",
    "df = pd.read_csv(file_path, encoding='ISO-8859-1')\n",
    "\n"
   ]
  },
  {
   "cell_type": "code",
   "execution_count": 48,
   "id": "accdff9b-b2b4-459a-a2c5-2a5708e8d9b0",
   "metadata": {},
   "outputs": [],
   "source": [
    "# Step 2: Drop rows where 'Rating' is missing (for training)\n",
    "df_train = df.dropna(subset=['Rating']).copy()"
   ]
  },
  {
   "cell_type": "code",
   "execution_count": 49,
   "id": "67486ff6-76ff-45ef-9793-7e7af3c8b455",
   "metadata": {},
   "outputs": [],
   "source": [
    "# Step 3: Clean 'Year' and 'Duration' columns\n",
    "df_train['Year'] = df_train['Year'].str.extract(r'(\\d{4})')\n",
    "df_train['Year'] = pd.to_numeric(df_train['Year'], errors='coerce')\n",
    "df_train['Duration'] = df_train['Duration'].str.extract(r'(\\d+)')\n",
    "df_train['Duration'] = pd.to_numeric(df_train['Duration'], errors='coerce')\n"
   ]
  },
  {
   "cell_type": "code",
   "execution_count": 50,
   "id": "a7e34349-6e46-4d01-82b5-c430704e7709",
   "metadata": {},
   "outputs": [],
   "source": [
    "# Step 4: Fill missing values\n",
    "categorical_cols = ['Genre', 'Director', 'Actor 1', 'Actor 2', 'Actor 3']\n",
    "for col in categorical_cols:\n",
    "    df_train[col] = df_train[col].fillna(\"Unknown\")\n",
    "df_train['Year'] = df_train['Year'].fillna(df_train['Year'].median())\n",
    "df_train['Duration'] = df_train['Duration'].fillna(df_train['Duration'].median())"
   ]
  },
  {
   "cell_type": "code",
   "execution_count": 51,
   "id": "8e0af133-0c41-445d-88fa-2d29e7283164",
   "metadata": {},
   "outputs": [],
   "source": [
    "\n",
    "# Step 5: Define features and target\n",
    "features = ['Genre', 'Director', 'Actor 1', 'Actor 2', 'Actor 3', 'Year', 'Duration']\n",
    "X = df_train[features]\n",
    "y = df_train['Rating']\n"
   ]
  },
  {
   "cell_type": "code",
   "execution_count": 52,
   "id": "79b6e2ae-cf23-4593-ab81-30145b7c042a",
   "metadata": {},
   "outputs": [
    {
     "name": "stdout",
     "output_type": "stream",
     "text": [
      "\n",
      "📊 Model Evaluation:\n",
      "RMSE: 1.35\n",
      "MAE: 1.05\n",
      "R² Score: 0.02\n"
     ]
    }
   ],
   "source": [
    "# Step 6: Train-test split\n",
    "X_train, X_test, y_train, y_test = train_test_split(X, y, test_size=0.2, random_state=42)\n",
    "\n",
    "# Step 7: Preprocessing\n",
    "preprocessor = ColumnTransformer([\n",
    "    ('cat', OneHotEncoder(handle_unknown='ignore', max_categories=20), categorical_cols),\n",
    "    ('num', 'passthrough', ['Year', 'Duration'])\n",
    "])\n",
    "\n",
    "# Step 8: Build model pipeline\n",
    "pipeline = Pipeline([\n",
    "    ('preprocessor', preprocessor),\n",
    "    ('model', RandomForestRegressor(n_estimators=100, random_state=42))\n",
    "])\n",
    "\n",
    "# Step 9: Train the model\n",
    "pipeline.fit(X_train, y_train)\n",
    "\n",
    "# Step 10: Evaluate model\n",
    "y_pred = pipeline.predict(X_test)\n",
    "print(\"\\n📊 Model Evaluation:\")\n",
    "print(f\"RMSE: {np.sqrt(mean_squared_error(y_test, y_pred)):.2f}\")\n",
    "print(f\"MAE: {mean_absolute_error(y_test, y_pred):.2f}\")\n",
    "print(f\"R² Score: {r2_score(y_test, y_pred):.2f}\")"
   ]
  },
  {
   "cell_type": "code",
   "execution_count": 53,
   "id": "9a0fbdc9-59c8-4350-8683-62c12abfed2f",
   "metadata": {},
   "outputs": [
    {
     "name": "stdout",
     "output_type": "stream",
     "text": [
      "\n",
      "🎬 Predicted Ratings for Movies with Missing Ratings:\n",
      "                 Name                   Genre            Director  \\\n",
      "0                                       Drama       J.S. Randhawa   \n",
      "2         #Homecoming          Drama, Musical  Soumyajit Majumdar   \n",
      "4   ...And Once Again                   Drama        Amol Palekar   \n",
      "7      .in for Motion             Documentary       Anirban Datta   \n",
      "14         101 Ratein                Thriller              Harish   \n",
      "16        108 Limited                 Unknown         Anand Anddy   \n",
      "17    108 Teerthyatra  Comedy, Drama, Fantasy             Rajpati   \n",
      "19         11 O'Clock                 Unknown          Homi Wadia   \n",
      "20         12 Bulbule   Comedy, Drama, Family          Jagat Joon   \n",
      "23           12 Years               Biography       Sohail Tatari   \n",
      "\n",
      "    Predicted Rating  \n",
      "0           5.153133  \n",
      "2           5.487400  \n",
      "4           5.110583  \n",
      "7           6.770000  \n",
      "14          5.474643  \n",
      "16          5.987500  \n",
      "17          5.573050  \n",
      "19          6.668083  \n",
      "20          6.061383  \n",
      "23          6.032000  \n"
     ]
    }
   ],
   "source": [
    "# Step 11: Predict ratings for unrated movies\n",
    "df_unrated = df[df['Rating'].isnull()].copy()\n",
    "\n",
    "# Clean 'Year' and 'Duration'\n",
    "df_unrated['Year'] = df_unrated['Year'].str.extract(r'(\\d{4})')\n",
    "df_unrated['Year'] = pd.to_numeric(df_unrated['Year'], errors='coerce')\n",
    "df_unrated['Duration'] = df_unrated['Duration'].str.extract(r'(\\d+)')\n",
    "df_unrated['Duration'] = pd.to_numeric(df_unrated['Duration'], errors='coerce')\n",
    "\n",
    "# Fill missing values in unrated data\n",
    "for col in categorical_cols:\n",
    "    df_unrated[col] = df_unrated[col].fillna(\"Unknown\")\n",
    "df_unrated['Year'] = df_unrated['Year'].fillna(df_train['Year'].median())\n",
    "df_unrated['Duration'] = df_unrated['Duration'].fillna(df_train['Duration'].median())\n",
    "\n",
    "# Prepare features and predict\n",
    "X_unrated = df_unrated[features]\n",
    "df_unrated['Predicted Rating'] = pipeline.predict(X_unrated)\n",
    "\n",
    "# Step 12: Show predicted results\n",
    "print(\"\\n🎬 Predicted Ratings for Movies with Missing Ratings:\")\n",
    "print(df_unrated[['Name', 'Genre', 'Director', 'Predicted Rating']].head(10))\n",
    "\n",
    "# Optional: Save to CSV\n",
    "df_unrated.to_csv(\"Predicted_IMDb_Ratings.csv\", index=False)"
   ]
  },
  {
   "cell_type": "code",
   "execution_count": null,
   "id": "71e8d33c-1d26-41a3-9e5a-11b4ec00522b",
   "metadata": {},
   "outputs": [],
   "source": []
  }
 ],
 "metadata": {
  "kernelspec": {
   "display_name": "Python 3 (ipykernel)",
   "language": "python",
   "name": "python3"
  },
  "language_info": {
   "codemirror_mode": {
    "name": "ipython",
    "version": 3
   },
   "file_extension": ".py",
   "mimetype": "text/x-python",
   "name": "python",
   "nbconvert_exporter": "python",
   "pygments_lexer": "ipython3",
   "version": "3.12.2"
  }
 },
 "nbformat": 4,
 "nbformat_minor": 5
}
